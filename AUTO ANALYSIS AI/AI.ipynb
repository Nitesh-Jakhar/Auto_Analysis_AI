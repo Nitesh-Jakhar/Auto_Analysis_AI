{
 "cells": [
  {
   "cell_type": "code",
   "execution_count": 4,
   "metadata": {},
   "outputs": [
    {
     "name": "stdout",
     "output_type": "stream",
     "text": [
      "SELECT a.ArtistId, a.Name, SUM(il.Quantity) AS TotalSales\n",
      "FROM Artist a\n",
      "INNER JOIN Album al ON a.ArtistId = al.ArtistId\n",
      "INNER JOIN Track t ON al.AlbumId = t.AlbumId\n",
      "INNER JOIN InvoiceLine il ON t.TrackId = il.TrackId\n",
      "GROUP BY a.ArtistId, a.Name\n",
      "ORDER BY TotalSales DESC\n",
      "LIMIT 10;\n",
      "   ArtistId                     Name  TotalSales\n",
      "0        90              Iron Maiden         140\n",
      "1       150                       U2         107\n",
      "2        50                Metallica          91\n",
      "3        22             Led Zeppelin          87\n",
      "4       113  Os Paralamas Do Sucesso          45\n",
      "5        58              Deep Purple          44\n",
      "6        82            Faith No More          42\n",
      "7       149                     Lost          41\n",
      "8        81             Eric Clapton          40\n",
      "9       124                   R.E.M.          39\n"
     ]
    }
   ],
   "source": [
    "\n",
    "from vanna.remote import VannaDefault\n",
    "vn = VannaDefault(model='chinook', api_key='3db4d9fc29a94c8ca8407ff5393cca96')\n",
    "vn.connect_to_sqlite('https://vanna.ai/Chinook.sqlite')\n",
    "vn.ask('What are the top 10 artists by sales?')\n",
    "\n",
    "from vanna.flask import VannaFlaskApp\n",
    "VannaFlaskApp(vn).run()"
   ]
  },
  {
   "cell_type": "code",
   "execution_count": 5,
   "metadata": {},
   "outputs": [
    {
     "name": "stdout",
     "output_type": "stream",
     "text": [
      "Current Date and Time: 2024-02-19 14:18:42.215099\n",
      "Formatted Date and Time: 02-19 14:18:42 IST 2024\n"
     ]
    }
   ],
   "source": []
  },
  {
   "cell_type": "code",
   "execution_count": null,
   "metadata": {},
   "outputs": [],
   "source": []
  }
 ],
 "metadata": {
  "kernelspec": {
   "display_name": "Python 3",
   "language": "python",
   "name": "python3"
  },
  "language_info": {
   "codemirror_mode": {
    "name": "ipython",
    "version": 3
   },
   "file_extension": ".py",
   "mimetype": "text/x-python",
   "name": "python",
   "nbconvert_exporter": "python",
   "pygments_lexer": "ipython3",
   "version": "3.11.6"
  }
 },
 "nbformat": 4,
 "nbformat_minor": 2
}
