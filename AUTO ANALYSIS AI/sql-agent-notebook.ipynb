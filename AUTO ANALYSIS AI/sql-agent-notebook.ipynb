{
  "cells": [
    {
      "cell_type": "markdown",
      "metadata": {
        "id": "arlX8FeMtabc"
      },
      "source": [
        "# SQLDatabaseChain Tutorial by Bhavesh🦜\n",
        "[**Link to my YouTube Channel**](https://www.youtube.com/BhaveshBhatt8791?sub_confirmation=1)"
      ]
    },
    {
      "cell_type": "markdown",
      "metadata": {
        "id": "SodUZXmugnZA"
      },
      "source": [
        "## Installs"
      ]
    },
    {
      "cell_type": "code",
      "execution_count": 12,
      "metadata": {
        "id": "T7tOFd1ttabd"
      },
      "outputs": [],
      "source": [
        "%%capture\n",
        "!pip install -q langchain\n",
        "!pip install -q openai"
      ]
    },
    {
      "cell_type": "markdown",
      "metadata": {
        "id": "hj2WQa9whw7B"
      },
      "source": [
        "# Secret Key"
      ]
    },
    {
      "cell_type": "code",
      "execution_count": 13,
      "metadata": {
        "id": "3uuYhNQXfdmY"
      },
      "outputs": [],
      "source": [
        "import os\n",
        "os.environ['OPENAI_API_KEY'] = 'sk-ls__2100e3512fb7406aa97539cd4984e042'"
      ]
    },
    {
      "cell_type": "markdown",
      "metadata": {
        "id": "tvLjsm1Bjxu9"
      },
      "source": [
        "# Converting Pandas to SQL Db"
      ]
    },
    {
      "cell_type": "code",
      "execution_count": 14,
      "metadata": {
        "id": "qa8gKNDgfyk_"
      },
      "outputs": [],
      "source": [
        "import pandas as pd\n",
        "import sqlite3\n",
        "\n",
        "def csv_to_sqlite(csv_file, table_name, db_file='fashion_db.sqlite'):\n",
        "    # Read CSV file into a DataFrame\n",
        "    df = pd.read_csv(\"D:\\\\Project Auto analuysis\\\\AUTO ANALYSIS AI\\\\kc_house_data.csv\")\n",
        "    \n",
        "    # Connect to SQLite database\n",
        "    conn = sqlite3.connect(db_file)\n",
        "    c = conn.cursor()\n",
        "\n",
        "    # Infer column names and their types from the DataFrame\n",
        "    columns_info = [(col, df[col].dtype) for col in df.columns]\n",
        "\n",
        "    # Create the table if it doesn't exist\n",
        "    columns_sql = ', '.join([f'{col_name} {col_type}' for col_name, col_type in columns_info])\n",
        "    c.execute(f'CREATE TABLE IF NOT EXISTS {table_name} ({columns_sql})')\n",
        "    conn.commit()\n",
        "\n",
        "    # Write DataFrame to SQLite table\n",
        "    df.to_sql(table_name, conn, if_exists='replace', index=False)\n",
        "\n",
        "    # Close the database connection\n",
        "    conn.close()\n",
        "\n",
        "# Example usage:\n",
        "csv_to_sqlite('data.csv', 'fashion_products')\n"
      ]
    },
    {
      "cell_type": "markdown",
      "metadata": {
        "id": "urDjpvWtj404"
      },
      "source": [
        "# Reading the DB"
      ]
    },
    {
      "cell_type": "code",
      "execution_count": 15,
      "metadata": {
        "id": "dG96BwyVfyEx"
      },
      "outputs": [],
      "source": [
        "def read_sql_query(sql, db):\n",
        "    conn = sqlite3.connect(db)\n",
        "    cur = conn.cursor()\n",
        "    cur.execute(sql)\n",
        "    rows = cur.fetchall()\n",
        "    for row in rows:\n",
        "        print(row)\n",
        "    conn.close()"
      ]
    },
    {
      "cell_type": "code",
      "execution_count": 16,
      "metadata": {
        "colab": {
          "base_uri": "https://localhost:8080/"
        },
        "id": "P17T9MwgiFCL",
        "outputId": "1e27a2ab-47c2-4948-fd3e-4a923ea496b1"
      },
      "outputs": [
        {
          "name": "stdout",
          "output_type": "stream",
          "text": [
            "(7129300520, '20141013T000000', 221900.0, 3, 1.0, 1180, 5650, 1.0, 0, 0, 3, 7, 1180.0, 0, 1955, 0, 98178, 47.5112, -122.257, 1340, 5650)\n",
            "(6414100192, '20141209T000000', 538000.0, 3, 2.25, 2570, 7242, 2.0, 0, 0, 3, 7, 2170.0, 400, 1951, 1991, 98125, 47.721, -122.319, 1690, 7639)\n",
            "(5631500400, '20150225T000000', 180000.0, 2, 1.0, 770, 10000, 1.0, 0, 0, 3, 6, 770.0, 0, 1933, 0, 98028, 47.7379, -122.233, 2720, 8062)\n",
            "(2487200875, '20141209T000000', 604000.0, 4, 3.0, 1960, 5000, 1.0, 0, 0, 5, 7, 1050.0, 910, 1965, 0, 98136, 47.5208, -122.393, 1360, 5000)\n",
            "(1954400510, '20150218T000000', 510000.0, 3, 2.0, 1680, 8080, 1.0, 0, 0, 3, 8, 1680.0, 0, 1987, 0, 98074, 47.6168, -122.045, 1800, 7503)\n",
            "(7237550310, '20140512T000000', 1225000.0, 4, 4.5, 5420, 101930, 1.0, 0, 0, 3, 11, 3890.0, 1530, 2001, 0, 98053, 47.6561, -122.005, 4760, 101930)\n",
            "(1321400060, '20140627T000000', 257500.0, 3, 2.25, 1715, 6819, 2.0, 0, 0, 3, 7, 1715.0, 0, 1995, 0, 98003, 47.3097, -122.327, 2238, 6819)\n",
            "(2008000270, '20150115T000000', 291850.0, 3, 1.5, 1060, 9711, 1.0, 0, 0, 3, 7, 1060.0, 0, 1963, 0, 98198, 47.4095, -122.315, 1650, 9711)\n",
            "(2414600126, '20150415T000000', 229500.0, 3, 1.0, 1780, 7470, 1.0, 0, 0, 3, 7, 1050.0, 730, 1960, 0, 98146, 47.5123, -122.337, 1780, 8113)\n",
            "(3793500160, '20150312T000000', 323000.0, 3, 2.5, 1890, 6560, 2.0, 0, 0, 3, 7, 1890.0, 0, 2003, 0, 98038, 47.3684, -122.031, 2390, 7570)\n"
          ]
        }
      ],
      "source": [
        "import sqlite3\n",
        "read_sql_query('SELECT * FROM fashion_products LIMIT 10;',\n",
        "               \"fashion_db.sqlite\")"
      ]
    },
    {
      "cell_type": "markdown",
      "metadata": {
        "id": "nBztCNQakElE"
      },
      "source": [
        "# Langchain SQL Agent"
      ]
    },
    {
      "cell_type": "code",
      "execution_count": 17,
      "metadata": {},
      "outputs": [
        {
          "name": "stdout",
          "output_type": "stream",
          "text": [
            "Requirement already satisfied: langchain in c:\\users\\91999\\appdata\\local\\programs\\python\\python311\\lib\\site-packages (0.1.8)\n",
            "Requirement already satisfied: PyYAML>=5.3 in c:\\users\\91999\\appdata\\local\\programs\\python\\python311\\lib\\site-packages (from langchain) (6.0)\n",
            "Requirement already satisfied: SQLAlchemy<3,>=1.4 in c:\\users\\91999\\appdata\\local\\programs\\python\\python311\\lib\\site-packages (from langchain) (2.0.20)\n",
            "Requirement already satisfied: aiohttp<4.0.0,>=3.8.3 in c:\\users\\91999\\appdata\\local\\programs\\python\\python311\\lib\\site-packages (from langchain) (3.8.5)\n",
            "Requirement already satisfied: dataclasses-json<0.7,>=0.5.7 in c:\\users\\91999\\appdata\\local\\programs\\python\\python311\\lib\\site-packages (from langchain) (0.5.14)\n",
            "Requirement already satisfied: jsonpatch<2.0,>=1.33 in c:\\users\\91999\\appdata\\local\\programs\\python\\python311\\lib\\site-packages (from langchain) (1.33)\n",
            "Requirement already satisfied: langchain-community<0.1,>=0.0.21 in c:\\users\\91999\\appdata\\local\\programs\\python\\python311\\lib\\site-packages (from langchain) (0.0.21)\n",
            "Requirement already satisfied: langchain-core<0.2,>=0.1.24 in c:\\users\\91999\\appdata\\local\\programs\\python\\python311\\lib\\site-packages (from langchain) (0.1.24)\n",
            "Requirement already satisfied: langsmith<0.2.0,>=0.1.0 in c:\\users\\91999\\appdata\\local\\programs\\python\\python311\\lib\\site-packages (from langchain) (0.1.2)\n",
            "Requirement already satisfied: numpy<2,>=1 in c:\\users\\91999\\appdata\\local\\programs\\python\\python311\\lib\\site-packages (from langchain) (1.23.5)\n",
            "Requirement already satisfied: pydantic<3,>=1 in c:\\users\\91999\\appdata\\local\\programs\\python\\python311\\lib\\site-packages (from langchain) (1.10.14)\n",
            "Requirement already satisfied: requests<3,>=2 in c:\\users\\91999\\appdata\\local\\programs\\python\\python311\\lib\\site-packages (from langchain) (2.28.1)\n",
            "Requirement already satisfied: tenacity<9.0.0,>=8.1.0 in c:\\users\\91999\\appdata\\local\\programs\\python\\python311\\lib\\site-packages (from langchain) (8.2.2)\n",
            "Requirement already satisfied: attrs>=17.3.0 in c:\\users\\91999\\appdata\\local\\programs\\python\\python311\\lib\\site-packages (from aiohttp<4.0.0,>=3.8.3->langchain) (22.1.0)\n",
            "Requirement already satisfied: charset-normalizer<4.0,>=2.0 in c:\\users\\91999\\appdata\\local\\programs\\python\\python311\\lib\\site-packages (from aiohttp<4.0.0,>=3.8.3->langchain) (2.1.1)\n",
            "Requirement already satisfied: multidict<7.0,>=4.5 in c:\\users\\91999\\appdata\\local\\programs\\python\\python311\\lib\\site-packages (from aiohttp<4.0.0,>=3.8.3->langchain) (6.0.4)\n",
            "Requirement already satisfied: async-timeout<5.0,>=4.0.0a3 in c:\\users\\91999\\appdata\\local\\programs\\python\\python311\\lib\\site-packages (from aiohttp<4.0.0,>=3.8.3->langchain) (4.0.3)\n",
            "Requirement already satisfied: yarl<2.0,>=1.0 in c:\\users\\91999\\appdata\\local\\programs\\python\\python311\\lib\\site-packages (from aiohttp<4.0.0,>=3.8.3->langchain) (1.9.2)\n",
            "Requirement already satisfied: frozenlist>=1.1.1 in c:\\users\\91999\\appdata\\local\\programs\\python\\python311\\lib\\site-packages (from aiohttp<4.0.0,>=3.8.3->langchain) (1.4.0)\n",
            "Requirement already satisfied: aiosignal>=1.1.2 in c:\\users\\91999\\appdata\\local\\programs\\python\\python311\\lib\\site-packages (from aiohttp<4.0.0,>=3.8.3->langchain) (1.3.1)\n",
            "Requirement already satisfied: marshmallow<4.0.0,>=3.18.0 in c:\\users\\91999\\appdata\\local\\programs\\python\\python311\\lib\\site-packages (from dataclasses-json<0.7,>=0.5.7->langchain) (3.20.1)\n",
            "Requirement already satisfied: typing-inspect<1,>=0.4.0 in c:\\users\\91999\\appdata\\local\\programs\\python\\python311\\lib\\site-packages (from dataclasses-json<0.7,>=0.5.7->langchain) (0.9.0)\n",
            "Requirement already satisfied: jsonpointer>=1.9 in c:\\users\\91999\\appdata\\local\\programs\\python\\python311\\lib\\site-packages (from jsonpatch<2.0,>=1.33->langchain) (2.4)\n",
            "Requirement already satisfied: anyio<5,>=3 in c:\\users\\91999\\appdata\\local\\programs\\python\\python311\\lib\\site-packages (from langchain-core<0.2,>=0.1.24->langchain) (3.6.2)\n",
            "Requirement already satisfied: packaging<24.0,>=23.2 in c:\\users\\91999\\appdata\\local\\programs\\python\\python311\\lib\\site-packages (from langchain-core<0.2,>=0.1.24->langchain) (23.2)\n",
            "Requirement already satisfied: typing-extensions>=4.2.0 in c:\\users\\91999\\appdata\\local\\programs\\python\\python311\\lib\\site-packages (from pydantic<3,>=1->langchain) (4.7.1)\n",
            "Requirement already satisfied: idna<4,>=2.5 in c:\\users\\91999\\appdata\\local\\programs\\python\\python311\\lib\\site-packages (from requests<3,>=2->langchain) (3.4)\n",
            "Requirement already satisfied: urllib3<1.27,>=1.21.1 in c:\\users\\91999\\appdata\\local\\programs\\python\\python311\\lib\\site-packages (from requests<3,>=2->langchain) (1.26.12)\n",
            "Requirement already satisfied: certifi>=2017.4.17 in c:\\users\\91999\\appdata\\local\\programs\\python\\python311\\lib\\site-packages (from requests<3,>=2->langchain) (2022.9.24)\n",
            "Requirement already satisfied: greenlet!=0.4.17 in c:\\users\\91999\\appdata\\local\\programs\\python\\python311\\lib\\site-packages (from SQLAlchemy<3,>=1.4->langchain) (2.0.2)\n",
            "Requirement already satisfied: sniffio>=1.1 in c:\\users\\91999\\appdata\\local\\programs\\python\\python311\\lib\\site-packages (from anyio<5,>=3->langchain-core<0.2,>=0.1.24->langchain) (1.3.0)\n",
            "Requirement already satisfied: mypy-extensions>=0.3.0 in c:\\users\\91999\\appdata\\local\\programs\\python\\python311\\lib\\site-packages (from typing-inspect<1,>=0.4.0->dataclasses-json<0.7,>=0.5.7->langchain) (1.0.0)\n"
          ]
        }
      ],
      "source": [
        "!pip install --upgrade langchain\n"
      ]
    },
    {
      "cell_type": "code",
      "execution_count": 23,
      "metadata": {},
      "outputs": [
        {
          "name": "stdout",
          "output_type": "stream",
          "text": [
            "Requirement already satisfied: langchain-experimental in c:\\users\\91999\\appdata\\local\\programs\\python\\python311\\lib\\site-packages (0.0.52)\n",
            "Requirement already satisfied: langchain<0.2.0,>=0.1.8 in c:\\users\\91999\\appdata\\local\\programs\\python\\python311\\lib\\site-packages (from langchain-experimental) (0.1.8)\n",
            "Requirement already satisfied: langchain-core<0.2.0,>=0.1.24 in c:\\users\\91999\\appdata\\local\\programs\\python\\python311\\lib\\site-packages (from langchain-experimental) (0.1.24)\n",
            "Requirement already satisfied: PyYAML>=5.3 in c:\\users\\91999\\appdata\\local\\programs\\python\\python311\\lib\\site-packages (from langchain<0.2.0,>=0.1.8->langchain-experimental) (6.0)\n",
            "Requirement already satisfied: SQLAlchemy<3,>=1.4 in c:\\users\\91999\\appdata\\local\\programs\\python\\python311\\lib\\site-packages (from langchain<0.2.0,>=0.1.8->langchain-experimental) (2.0.20)\n",
            "Requirement already satisfied: aiohttp<4.0.0,>=3.8.3 in c:\\users\\91999\\appdata\\local\\programs\\python\\python311\\lib\\site-packages (from langchain<0.2.0,>=0.1.8->langchain-experimental) (3.8.5)\n",
            "Requirement already satisfied: dataclasses-json<0.7,>=0.5.7 in c:\\users\\91999\\appdata\\local\\programs\\python\\python311\\lib\\site-packages (from langchain<0.2.0,>=0.1.8->langchain-experimental) (0.5.14)\n",
            "Requirement already satisfied: jsonpatch<2.0,>=1.33 in c:\\users\\91999\\appdata\\local\\programs\\python\\python311\\lib\\site-packages (from langchain<0.2.0,>=0.1.8->langchain-experimental) (1.33)\n",
            "Requirement already satisfied: langchain-community<0.1,>=0.0.21 in c:\\users\\91999\\appdata\\local\\programs\\python\\python311\\lib\\site-packages (from langchain<0.2.0,>=0.1.8->langchain-experimental) (0.0.21)\n",
            "Requirement already satisfied: langsmith<0.2.0,>=0.1.0 in c:\\users\\91999\\appdata\\local\\programs\\python\\python311\\lib\\site-packages (from langchain<0.2.0,>=0.1.8->langchain-experimental) (0.1.2)\n",
            "Requirement already satisfied: numpy<2,>=1 in c:\\users\\91999\\appdata\\local\\programs\\python\\python311\\lib\\site-packages (from langchain<0.2.0,>=0.1.8->langchain-experimental) (1.23.5)\n",
            "Requirement already satisfied: pydantic<3,>=1 in c:\\users\\91999\\appdata\\local\\programs\\python\\python311\\lib\\site-packages (from langchain<0.2.0,>=0.1.8->langchain-experimental) (1.10.14)\n",
            "Requirement already satisfied: requests<3,>=2 in c:\\users\\91999\\appdata\\local\\programs\\python\\python311\\lib\\site-packages (from langchain<0.2.0,>=0.1.8->langchain-experimental) (2.28.1)\n",
            "Requirement already satisfied: tenacity<9.0.0,>=8.1.0 in c:\\users\\91999\\appdata\\local\\programs\\python\\python311\\lib\\site-packages (from langchain<0.2.0,>=0.1.8->langchain-experimental) (8.2.2)\n",
            "Requirement already satisfied: anyio<5,>=3 in c:\\users\\91999\\appdata\\local\\programs\\python\\python311\\lib\\site-packages (from langchain-core<0.2.0,>=0.1.24->langchain-experimental) (3.6.2)\n",
            "Requirement already satisfied: packaging<24.0,>=23.2 in c:\\users\\91999\\appdata\\local\\programs\\python\\python311\\lib\\site-packages (from langchain-core<0.2.0,>=0.1.24->langchain-experimental) (23.2)\n",
            "Requirement already satisfied: attrs>=17.3.0 in c:\\users\\91999\\appdata\\local\\programs\\python\\python311\\lib\\site-packages (from aiohttp<4.0.0,>=3.8.3->langchain<0.2.0,>=0.1.8->langchain-experimental) (22.1.0)\n",
            "Requirement already satisfied: charset-normalizer<4.0,>=2.0 in c:\\users\\91999\\appdata\\local\\programs\\python\\python311\\lib\\site-packages (from aiohttp<4.0.0,>=3.8.3->langchain<0.2.0,>=0.1.8->langchain-experimental) (2.1.1)\n",
            "Requirement already satisfied: multidict<7.0,>=4.5 in c:\\users\\91999\\appdata\\local\\programs\\python\\python311\\lib\\site-packages (from aiohttp<4.0.0,>=3.8.3->langchain<0.2.0,>=0.1.8->langchain-experimental) (6.0.4)\n",
            "Requirement already satisfied: async-timeout<5.0,>=4.0.0a3 in c:\\users\\91999\\appdata\\local\\programs\\python\\python311\\lib\\site-packages (from aiohttp<4.0.0,>=3.8.3->langchain<0.2.0,>=0.1.8->langchain-experimental) (4.0.3)\n",
            "Requirement already satisfied: yarl<2.0,>=1.0 in c:\\users\\91999\\appdata\\local\\programs\\python\\python311\\lib\\site-packages (from aiohttp<4.0.0,>=3.8.3->langchain<0.2.0,>=0.1.8->langchain-experimental) (1.9.2)\n",
            "Requirement already satisfied: frozenlist>=1.1.1 in c:\\users\\91999\\appdata\\local\\programs\\python\\python311\\lib\\site-packages (from aiohttp<4.0.0,>=3.8.3->langchain<0.2.0,>=0.1.8->langchain-experimental) (1.4.0)\n",
            "Requirement already satisfied: aiosignal>=1.1.2 in c:\\users\\91999\\appdata\\local\\programs\\python\\python311\\lib\\site-packages (from aiohttp<4.0.0,>=3.8.3->langchain<0.2.0,>=0.1.8->langchain-experimental) (1.3.1)\n",
            "Requirement already satisfied: idna>=2.8 in c:\\users\\91999\\appdata\\local\\programs\\python\\python311\\lib\\site-packages (from anyio<5,>=3->langchain-core<0.2.0,>=0.1.24->langchain-experimental) (3.4)\n",
            "Requirement already satisfied: sniffio>=1.1 in c:\\users\\91999\\appdata\\local\\programs\\python\\python311\\lib\\site-packages (from anyio<5,>=3->langchain-core<0.2.0,>=0.1.24->langchain-experimental) (1.3.0)\n",
            "Requirement already satisfied: marshmallow<4.0.0,>=3.18.0 in c:\\users\\91999\\appdata\\local\\programs\\python\\python311\\lib\\site-packages (from dataclasses-json<0.7,>=0.5.7->langchain<0.2.0,>=0.1.8->langchain-experimental) (3.20.1)\n",
            "Requirement already satisfied: typing-inspect<1,>=0.4.0 in c:\\users\\91999\\appdata\\local\\programs\\python\\python311\\lib\\site-packages (from dataclasses-json<0.7,>=0.5.7->langchain<0.2.0,>=0.1.8->langchain-experimental) (0.9.0)\n",
            "Requirement already satisfied: jsonpointer>=1.9 in c:\\users\\91999\\appdata\\local\\programs\\python\\python311\\lib\\site-packages (from jsonpatch<2.0,>=1.33->langchain<0.2.0,>=0.1.8->langchain-experimental) (2.4)\n",
            "Requirement already satisfied: typing-extensions>=4.2.0 in c:\\users\\91999\\appdata\\local\\programs\\python\\python311\\lib\\site-packages (from pydantic<3,>=1->langchain<0.2.0,>=0.1.8->langchain-experimental) (4.7.1)\n",
            "Requirement already satisfied: urllib3<1.27,>=1.21.1 in c:\\users\\91999\\appdata\\local\\programs\\python\\python311\\lib\\site-packages (from requests<3,>=2->langchain<0.2.0,>=0.1.8->langchain-experimental) (1.26.12)\n",
            "Requirement already satisfied: certifi>=2017.4.17 in c:\\users\\91999\\appdata\\local\\programs\\python\\python311\\lib\\site-packages (from requests<3,>=2->langchain<0.2.0,>=0.1.8->langchain-experimental) (2022.9.24)\n",
            "Requirement already satisfied: greenlet!=0.4.17 in c:\\users\\91999\\appdata\\local\\programs\\python\\python311\\lib\\site-packages (from SQLAlchemy<3,>=1.4->langchain<0.2.0,>=0.1.8->langchain-experimental) (2.0.2)\n",
            "Requirement already satisfied: mypy-extensions>=0.3.0 in c:\\users\\91999\\appdata\\local\\programs\\python\\python311\\lib\\site-packages (from typing-inspect<1,>=0.4.0->dataclasses-json<0.7,>=0.5.7->langchain<0.2.0,>=0.1.8->langchain-experimental) (1.0.0)\n"
          ]
        }
      ],
      "source": [
        "!pip install langchain-experimental"
      ]
    },
    {
      "cell_type": "code",
      "execution_count": 28,
      "metadata": {
        "id": "c-iId_loiFEg"
      },
      "outputs": [],
      "source": [
        "from langchain import OpenAI, SQLDatabase\n"
      ]
    },
    {
      "cell_type": "code",
      "execution_count": 27,
      "metadata": {},
      "outputs": [],
      "source": [
        "from langchain_experimental.sql import SQLDatabaseChain"
      ]
    },
    {
      "cell_type": "code",
      "execution_count": 33,
      "metadata": {
        "id": "g1QeyHrvil6Z"
      },
      "outputs": [],
      "source": [
        "\n",
        "input_db = SQLDatabase.from_uri('sqlite:///fashion_db.sqlite')\n",
        "llm_1 = OpenAI(temperature=0)"
      ]
    },
    {
      "cell_type": "code",
      "execution_count": 50,
      "metadata": {
        "colab": {
          "base_uri": "https://localhost:8080/"
        },
        "id": "bwVDUTJ4il8c",
        "outputId": "594676ed-4b99-48a1-b782-8e7765f5d8c5"
      },
      "outputs": [
        {
          "name": "stdout",
          "output_type": "stream",
          "text": [
            "Unexpected exception formatting exception. Falling back to standard exception\n"
          ]
        },
        {
          "name": "stderr",
          "output_type": "stream",
          "text": [
            "c:\\Users\\91999\\AppData\\Local\\Programs\\Python\\Python311\\Lib\\site-packages\\langchain_experimental\\sql\\base.py:76: UserWarning: Directly instantiating an SQLDatabaseChain with an llm is deprecated. Please instantiate with llm_chain argument or using the from_llm class method.\n",
            "  warnings.warn(\n",
            "Traceback (most recent call last):\n",
            "  File \"c:\\Users\\91999\\AppData\\Local\\Programs\\Python\\Python311\\Lib\\site-packages\\IPython\\core\\interactiveshell.py\", line 3553, in run_code\n",
            "    exec(code_obj, self.user_global_ns, self.user_ns)\n",
            "  File \"C:\\Users\\91999\\AppData\\Local\\Temp\\ipykernel_7384\\516359380.py\", line 2, in <module>\n",
            "    db_agent = SQLDatabaseChain(llm = OpenAI(temperature=0),\n",
            "               ^^^^^^^^^^^^^^^^^^^^^^^^^^^^^^^^^^^^^^^^^^^^^\n",
            "  File \"c:\\Users\\91999\\AppData\\Local\\Programs\\Python\\Python311\\Lib\\site-packages\\langchain\\load\\serializable.py\", line 74, in __init__\n",
            "  File \"pydantic\\main.py\", line 341, in pydantic.main.BaseModel.__init__\n",
            "pydantic.error_wrappers.ValidationError: 2 validation errors for SQLDatabaseChain\n",
            "llm\n",
            "  Can't instantiate abstract class BaseLanguageModel with abstract methods agenerate_prompt, apredict, apredict_messages, generate_prompt, invoke, predict, predict_messages (type=type_error)\n",
            "database\n",
            "  instance of SQLDatabase expected (type=type_error.arbitrary_type; expected_arbitrary_type=SQLDatabase)\n",
            "\n",
            "During handling of the above exception, another exception occurred:\n",
            "\n",
            "Traceback (most recent call last):\n",
            "  File \"c:\\Users\\91999\\AppData\\Local\\Programs\\Python\\Python311\\Lib\\site-packages\\IPython\\core\\interactiveshell.py\", line 2144, in showtraceback\n",
            "    stb = self.InteractiveTB.structured_traceback(\n",
            "          ^^^^^^^^^^^^^^^^^^^^^^^^^^^^^^^^^^^^^^^^\n",
            "  File \"c:\\Users\\91999\\AppData\\Local\\Programs\\Python\\Python311\\Lib\\site-packages\\IPython\\core\\ultratb.py\", line 1435, in structured_traceback\n",
            "    return FormattedTB.structured_traceback(\n",
            "           ^^^^^^^^^^^^^^^^^^^^^^^^^^^^^^^^^\n",
            "  File \"c:\\Users\\91999\\AppData\\Local\\Programs\\Python\\Python311\\Lib\\site-packages\\IPython\\core\\ultratb.py\", line 1326, in structured_traceback\n",
            "    return VerboseTB.structured_traceback(\n",
            "           ^^^^^^^^^^^^^^^^^^^^^^^^^^^^^^^\n",
            "  File \"c:\\Users\\91999\\AppData\\Local\\Programs\\Python\\Python311\\Lib\\site-packages\\IPython\\core\\ultratb.py\", line 1173, in structured_traceback\n",
            "    formatted_exception = self.format_exception_as_a_whole(etype, evalue, etb, number_of_lines_of_context,\n",
            "                          ^^^^^^^^^^^^^^^^^^^^^^^^^^^^^^^^^^^^^^^^^^^^^^^^^^^^^^^^^^^^^^^^^^^^^^^^^^^^^^^^\n",
            "  File \"c:\\Users\\91999\\AppData\\Local\\Programs\\Python\\Python311\\Lib\\site-packages\\IPython\\core\\ultratb.py\", line 1088, in format_exception_as_a_whole\n",
            "    frames.append(self.format_record(record))\n",
            "                  ^^^^^^^^^^^^^^^^^^^^^^^^^^\n",
            "  File \"c:\\Users\\91999\\AppData\\Local\\Programs\\Python\\Python311\\Lib\\site-packages\\IPython\\core\\ultratb.py\", line 970, in format_record\n",
            "    frame_info.lines, Colors, self.has_colors, lvals\n",
            "    ^^^^^^^^^^^^^^^^\n",
            "  File \"c:\\Users\\91999\\AppData\\Local\\Programs\\Python\\Python311\\Lib\\site-packages\\IPython\\core\\ultratb.py\", line 792, in lines\n",
            "    return self._sd.lines\n",
            "           ^^^^^^^^^^^^^^\n",
            "  File \"c:\\Users\\91999\\AppData\\Local\\Programs\\Python\\Python311\\Lib\\site-packages\\stack_data\\utils.py\", line 144, in cached_property_wrapper\n",
            "    value = obj.__dict__[self.func.__name__] = self.func(obj)\n",
            "                                               ^^^^^^^^^^^^^^\n",
            "  File \"c:\\Users\\91999\\AppData\\Local\\Programs\\Python\\Python311\\Lib\\site-packages\\stack_data\\core.py\", line 720, in lines\n",
            "    pieces = self.included_pieces\n",
            "             ^^^^^^^^^^^^^^^^^^^^\n",
            "  File \"c:\\Users\\91999\\AppData\\Local\\Programs\\Python\\Python311\\Lib\\site-packages\\stack_data\\utils.py\", line 144, in cached_property_wrapper\n",
            "    value = obj.__dict__[self.func.__name__] = self.func(obj)\n",
            "                                               ^^^^^^^^^^^^^^\n",
            "  File \"c:\\Users\\91999\\AppData\\Local\\Programs\\Python\\Python311\\Lib\\site-packages\\stack_data\\core.py\", line 667, in included_pieces\n",
            "    pos = scope_pieces.index(self.executing_piece)\n",
            "                             ^^^^^^^^^^^^^^^^^^^^\n",
            "  File \"c:\\Users\\91999\\AppData\\Local\\Programs\\Python\\Python311\\Lib\\site-packages\\stack_data\\utils.py\", line 144, in cached_property_wrapper\n",
            "    value = obj.__dict__[self.func.__name__] = self.func(obj)\n",
            "                                               ^^^^^^^^^^^^^^\n",
            "  File \"c:\\Users\\91999\\AppData\\Local\\Programs\\Python\\Python311\\Lib\\site-packages\\stack_data\\core.py\", line 646, in executing_piece\n",
            "    return only(\n",
            "           ^^^^^\n",
            "  File \"c:\\Users\\91999\\AppData\\Local\\Programs\\Python\\Python311\\Lib\\site-packages\\executing\\executing.py\", line 190, in only\n",
            "    raise NotOneValueFound('Expected one value, found 0')\n",
            "executing.executing.NotOneValueFound: Expected one value, found 0\n"
          ]
        }
      ],
      "source": [
        "from langchain import OpenAI\n",
        "db_agent = SQLDatabaseChain(llm = OpenAI(temperature=0),\n",
        "                            database = input_db,\n",
        "                            verbose=True)"
      ]
    },
    {
      "cell_type": "markdown",
      "metadata": {
        "id": "xjMuQkB8BnFF"
      },
      "source": [
        "# Question 1"
      ]
    },
    {
      "cell_type": "code",
      "execution_count": 31,
      "metadata": {
        "colab": {
          "base_uri": "https://localhost:8080/",
          "height": 174
        },
        "id": "RDovCG0Eil_W",
        "outputId": "ba565125-63d1-4c11-e6e0-c4d702909880"
      },
      "outputs": [
        {
          "ename": "NameError",
          "evalue": "name 'db_agent' is not defined",
          "output_type": "error",
          "traceback": [
            "\u001b[1;31m---------------------------------------------------------------------------\u001b[0m",
            "\u001b[1;31mNameError\u001b[0m                                 Traceback (most recent call last)",
            "Cell \u001b[1;32mIn[31], line 1\u001b[0m\n\u001b[1;32m----> 1\u001b[0m \u001b[43mdb_agent\u001b[49m\u001b[38;5;241m.\u001b[39mrun(\u001b[38;5;124m\"\u001b[39m\u001b[38;5;124mhow many rows are there?\u001b[39m\u001b[38;5;124m\"\u001b[39m)\n",
            "\u001b[1;31mNameError\u001b[0m: name 'db_agent' is not defined"
          ]
        }
      ],
      "source": [
        "db_agent.run(\"how many rows are there?\")"
      ]
    },
    {
      "cell_type": "markdown",
      "metadata": {},
      "source": []
    },
    {
      "cell_type": "markdown",
      "metadata": {
        "id": "XG61vLA0BozA"
      },
      "source": [
        "# Question 2"
      ]
    },
    {
      "cell_type": "code",
      "execution_count": null,
      "metadata": {
        "colab": {
          "base_uri": "https://localhost:8080/",
          "height": 174
        },
        "id": "q7Wkx6EKiFHG",
        "outputId": "91049420-6107-45c2-a9c2-11f796094fab"
      },
      "outputs": [],
      "source": [
        "db_agent.run(\"how many entries of Adidas are present?\")"
      ]
    },
    {
      "cell_type": "markdown",
      "metadata": {
        "id": "GN4P3XzJBsgD"
      },
      "source": [
        "# Question 3"
      ]
    },
    {
      "cell_type": "code",
      "execution_count": null,
      "metadata": {
        "colab": {
          "base_uri": "https://localhost:8080/",
          "height": 194
        },
        "id": "nADLtzRGjJE8",
        "outputId": "080f0fb4-800e-4edd-8640-c31fbc56946b"
      },
      "outputs": [],
      "source": [
        "db_agent.run(\"how many XL products of Nike are there that have a rating of more than 4?\")"
      ]
    },
    {
      "cell_type": "markdown",
      "metadata": {
        "id": "7l289EzUBuOD"
      },
      "source": [
        "# Question 4"
      ]
    },
    {
      "cell_type": "code",
      "execution_count": null,
      "metadata": {
        "colab": {
          "base_uri": "https://localhost:8080/",
          "height": 194
        },
        "id": "byC6friejJHt",
        "outputId": "14b59b06-3fc8-43d8-d541-ba56911eaa55"
      },
      "outputs": [],
      "source": [
        "db_agent.run(\"Give all the details of Adidas which have a size of L and have a rating of more than 4.2\")"
      ]
    },
    {
      "cell_type": "code",
      "execution_count": null,
      "metadata": {
        "id": "y9eRBcF1jUCz"
      },
      "outputs": [],
      "source": []
    },
    {
      "cell_type": "code",
      "execution_count": null,
      "metadata": {
        "id": "t5yiAlGAjUFF"
      },
      "outputs": [],
      "source": []
    },
    {
      "cell_type": "code",
      "execution_count": null,
      "metadata": {
        "id": "-qhZn0NEjUIi"
      },
      "outputs": [],
      "source": []
    },
    {
      "cell_type": "code",
      "execution_count": null,
      "metadata": {
        "id": "O9oQXbD_iFJa"
      },
      "outputs": [],
      "source": []
    }
  ],
  "metadata": {
    "colab": {
      "collapsed_sections": [
        "XG61vLA0BozA",
        "GN4P3XzJBsgD",
        "7l289EzUBuOD"
      ],
      "provenance": []
    },
    "kernelspec": {
      "display_name": "Python 3",
      "name": "python3"
    },
    "language_info": {
      "codemirror_mode": {
        "name": "ipython",
        "version": 3
      },
      "file_extension": ".py",
      "mimetype": "text/x-python",
      "name": "python",
      "nbconvert_exporter": "python",
      "pygments_lexer": "ipython3",
      "version": "3.11.6"
    }
  },
  "nbformat": 4,
  "nbformat_minor": 0
}
