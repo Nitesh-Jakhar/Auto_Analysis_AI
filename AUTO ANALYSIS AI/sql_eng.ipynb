{
 "cells": [
  {
   "cell_type": "code",
   "execution_count": 1,
   "metadata": {},
   "outputs": [],
   "source": [
    "import os\n",
    "os.environ['OPENAI_API_KEY'] = 'sk-ls__2100e3512fb7406aa97539cd4984e042'"
   ]
  },
  {
   "cell_type": "code",
   "execution_count": 2,
   "metadata": {},
   "outputs": [],
   "source": [
    "import pandas as pd\n",
    "import sqlite3\n",
    "\n",
    "def csv_to_sqlite(csv_file, table_name, db_file='fashion_db.sqlite'):\n",
    "    # Read CSV file into a DataFrame\n",
    "    df = pd.read_csv(\"D:\\\\Project Auto analuysis\\\\AUTO ANALYSIS AI\\\\kc_house_data.csv\")\n",
    "    \n",
    "    # Connect to SQLite database\n",
    "    conn = sqlite3.connect(db_file)\n",
    "    c = conn.cursor()\n",
    "\n",
    "    # Infer column names and their types from the DataFrame\n",
    "    columns_info = [(col, df[col].dtype) for col in df.columns]\n",
    "\n",
    "    # Create the table if it doesn't exist\n",
    "    columns_sql = ', '.join([f'{col_name} {col_type}' for col_name, col_type in columns_info])\n",
    "    c.execute(f'CREATE TABLE IF NOT EXISTS {table_name} ({columns_sql})')\n",
    "    conn.commit()\n",
    "\n",
    "    # Write DataFrame to SQLite table\n",
    "    df.to_sql(table_name, conn, if_exists='replace', index=False)\n",
    "\n",
    "    # Close the database connection\n",
    "    conn.close()\n",
    "\n",
    "# Example usage:\n",
    "csv_to_sqlite('data.csv', 'fashion_products')\n"
   ]
  },
  {
   "cell_type": "code",
   "execution_count": 3,
   "metadata": {},
   "outputs": [],
   "source": [
    "def read_sql_query(sql, db):\n",
    "    conn = sqlite3.connect(db)\n",
    "    cur = conn.cursor()\n",
    "    cur.execute(sql)\n",
    "    rows = cur.fetchall()\n",
    "    for row in rows:\n",
    "        print(row)\n",
    "    conn.close()"
   ]
  },
  {
   "cell_type": "code",
   "execution_count": 4,
   "metadata": {},
   "outputs": [
    {
     "name": "stdout",
     "output_type": "stream",
     "text": [
      "(7129300520, '20141013T000000', 221900.0, 3, 1.0, 1180, 5650, 1.0, 0, 0, 3, 7, 1180.0, 0, 1955, 0, 98178, 47.5112, -122.257, 1340, 5650)\n",
      "(6414100192, '20141209T000000', 538000.0, 3, 2.25, 2570, 7242, 2.0, 0, 0, 3, 7, 2170.0, 400, 1951, 1991, 98125, 47.721, -122.319, 1690, 7639)\n",
      "(5631500400, '20150225T000000', 180000.0, 2, 1.0, 770, 10000, 1.0, 0, 0, 3, 6, 770.0, 0, 1933, 0, 98028, 47.7379, -122.233, 2720, 8062)\n",
      "(2487200875, '20141209T000000', 604000.0, 4, 3.0, 1960, 5000, 1.0, 0, 0, 5, 7, 1050.0, 910, 1965, 0, 98136, 47.5208, -122.393, 1360, 5000)\n",
      "(1954400510, '20150218T000000', 510000.0, 3, 2.0, 1680, 8080, 1.0, 0, 0, 3, 8, 1680.0, 0, 1987, 0, 98074, 47.6168, -122.045, 1800, 7503)\n",
      "(7237550310, '20140512T000000', 1225000.0, 4, 4.5, 5420, 101930, 1.0, 0, 0, 3, 11, 3890.0, 1530, 2001, 0, 98053, 47.6561, -122.005, 4760, 101930)\n",
      "(1321400060, '20140627T000000', 257500.0, 3, 2.25, 1715, 6819, 2.0, 0, 0, 3, 7, 1715.0, 0, 1995, 0, 98003, 47.3097, -122.327, 2238, 6819)\n",
      "(2008000270, '20150115T000000', 291850.0, 3, 1.5, 1060, 9711, 1.0, 0, 0, 3, 7, 1060.0, 0, 1963, 0, 98198, 47.4095, -122.315, 1650, 9711)\n",
      "(2414600126, '20150415T000000', 229500.0, 3, 1.0, 1780, 7470, 1.0, 0, 0, 3, 7, 1050.0, 730, 1960, 0, 98146, 47.5123, -122.337, 1780, 8113)\n",
      "(3793500160, '20150312T000000', 323000.0, 3, 2.5, 1890, 6560, 2.0, 0, 0, 3, 7, 1890.0, 0, 2003, 0, 98038, 47.3684, -122.031, 2390, 7570)\n"
     ]
    }
   ],
   "source": [
    "import sqlite3\n",
    "read_sql_query('SELECT * FROM fashion_products LIMIT 10;',\n",
    "               \"fashion_db.sqlite\")"
   ]
  },
  {
   "cell_type": "code",
   "execution_count": 5,
   "metadata": {},
   "outputs": [],
   "source": [
    "from langchain import OpenAI, SQLDatabase\n"
   ]
  },
  {
   "cell_type": "code",
   "execution_count": 6,
   "metadata": {},
   "outputs": [
    {
     "ename": "ImportError",
     "evalue": "cannot import name 'SQLDatabaseChain' from 'langchain' (c:\\Users\\91999\\AppData\\Local\\Programs\\Python\\Python311\\Lib\\site-packages\\langchain\\__init__.py)",
     "output_type": "error",
     "traceback": [
      "\u001b[1;31m---------------------------------------------------------------------------\u001b[0m",
      "\u001b[1;31mImportError\u001b[0m                               Traceback (most recent call last)",
      "Cell \u001b[1;32mIn[6], line 1\u001b[0m\n\u001b[1;32m----> 1\u001b[0m \u001b[38;5;28;01mfrom\u001b[39;00m \u001b[38;5;21;01mlangchain\u001b[39;00m \u001b[38;5;28;01mimport\u001b[39;00m SQLDatabaseChain\n",
      "\u001b[1;31mImportError\u001b[0m: cannot import name 'SQLDatabaseChain' from 'langchain' (c:\\Users\\91999\\AppData\\Local\\Programs\\Python\\Python311\\Lib\\site-packages\\langchain\\__init__.py)"
     ]
    }
   ],
   "source": [
    "from langchain import SQLDatabaseChain"
   ]
  },
  {
   "cell_type": "code",
   "execution_count": null,
   "metadata": {},
   "outputs": [],
   "source": []
  }
 ],
 "metadata": {
  "kernelspec": {
   "display_name": "Python 3",
   "language": "python",
   "name": "python3"
  },
  "language_info": {
   "codemirror_mode": {
    "name": "ipython",
    "version": 3
   },
   "file_extension": ".py",
   "mimetype": "text/x-python",
   "name": "python",
   "nbconvert_exporter": "python",
   "pygments_lexer": "ipython3",
   "version": "3.11.6"
  }
 },
 "nbformat": 4,
 "nbformat_minor": 2
}
